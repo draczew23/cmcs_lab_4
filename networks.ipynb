{
 "cells": [
  {
   "cell_type": "markdown",
   "metadata": {},
   "source": [
    "# Karate club"
   ]
  },
  {
   "cell_type": "code",
   "execution_count": null,
   "metadata": {},
   "outputs": [],
   "source": [
    "import networkx as nx\n",
    "import numpy as np\n",
    "import matplotlib.pyplot as plt\n",
    "from matplotlib import cm"
   ]
  },
  {
   "cell_type": "markdown",
   "metadata": {},
   "source": [
    "Needed functions"
   ]
  },
  {
   "cell_type": "code",
   "execution_count": null,
   "metadata": {},
   "outputs": [],
   "source": [
    "# Club initialization function\n",
    "\n",
    "def initialize_club(weight, state_off, state_hi, state_other):\n",
    "    g = nx.karate_club_graph()\n",
    "\n",
    "    # add state attribute to nodes\n",
    "    for i, j in g.nodes(data = True):\n",
    "\n",
    "        if j['club'] == 'Mr. Hi':\n",
    "            g.add_node(i, state=state_hi)\n",
    "\n",
    "        elif j['club'] == 'Officer':\n",
    "            g.add_node(i, state=state_off)\n",
    "\n",
    "        else:\n",
    "            g.add_node(i, state=state_other)\n",
    "            \n",
    "    # add weight attribute to edges\n",
    "    for i, j, k in g.edges(data = True):\n",
    "        g.add_edge(i, j, weight=weight)\n",
    "    \n",
    "    nextg = g.copy()\n",
    "\n",
    "    return g, nextg"
   ]
  },
  {
   "cell_type": "code",
   "execution_count": null,
   "metadata": {},
   "outputs": [],
   "source": [
    "# initial parameters\n",
    "\n",
    "D = 5\n",
    "beta = 10\n",
    "dt = 0.01\n",
    "c_hi = 1    # state Mr Hi\n",
    "c_off = 0   # state Officer\n",
    "c_other = 0.5   # state other\n",
    "w_init = 0.5    # initial weight\n",
    "\n",
    "time_steps = 100 # number of time steps\n",
    "frames = time_steps / 10 # number of frames\n",
    "\n",
    "dt = 0.1\n",
    "\n",
    "# club initialization\n",
    "club = initialize_club(w_init, c_off, c_hi, c_other)\n",
    "\n",
    "g = club[0]     # our graph\n",
    "nextg = club[1] # copy of our graph\n",
    "\n",
    "# update club\n",
    "for t in range(time_steps):\n",
    "\n",
    "    for i in g.nodes():     # nodes loop\n",
    "        c_i = g.nodes[i]['state']\n",
    "        n_states_sum = 0\n",
    "        \n",
    "        # sum of weights of neighbors\n",
    "        for j in g.neighbors(i):\n",
    "            n_states_sum += (g.nodes[i]['state'] - c_i) * g.edges[i, j]['weight']\n",
    "\n",
    "        nextg.nodes[i]['state'] = c_i + D * n_states_sum * dt\n",
    "\n",
    "    for i, j in g.edges():     # edges loop\n",
    "        w_ij = g.edges[i, j]['weight']\n",
    "        nextg.edges[i, j]['weight'] = w_ij - (w_ij * beta * (1 - w_ij) * (abs(g.nodes[i]['state'] - g.nodes[j]['state']) - 0.25) ** 3) * dt \n",
    "        \n",
    "    g, nextg = nextg, g\n",
    "    for i, j in g.edges(): # edges loop\n",
    "\n",
    "        print(g.edges[i, j]['weight'])\n",
    "\n",
    "    # draw our graph\n",
    "    if t % 10 == 0:\n",
    "\n",
    "        plt.rcParams[\"figure.figsize\"] = (10, 10)\n",
    "        plt.clf()\n",
    "        nx.draw_spring(g, cmap= cm.cool, vmin= 0, vmax= 1,with_labels= True, node_color= [g.nodes[i]['state'] for i in g.nodes()], edge_cmap= cm.binary, edge_vmin= 0, edge_vmax= 1, edge_color= [g.edges[i, j]['weight'] for i, j in g.edges()])\n",
    "        \n",
    "        # print(g.nodes[0])\n",
    "\n",
    "        nStr = str(t) \n",
    "        nStr = nStr.rjust(5, '0')\n",
    "        plt.title(\"Karate club, step \" + nStr)\n",
    "        plt.savefig('img' + nStr + '.png')\n",
    "        plt.show()\n",
    "\n",
    "        # blue officer\n",
    "        # violet Mr Hi\n"
   ]
  },
  {
   "cell_type": "markdown",
   "metadata": {},
   "source": [
    "# Delete plots"
   ]
  },
  {
   "cell_type": "code",
   "execution_count": null,
   "metadata": {},
   "outputs": [],
   "source": [
    "import os\n",
    "\n",
    "dir_name = \"D:\\Matieriały_magisterskie\\sem_1\\Computer modeling of complex systems\\cmcs_lab_4\" # or other user path\n",
    "test = os.listdir(dir_name)\n",
    "\n",
    "for item in test:\n",
    "    if item.endswith(\".png\"):\n",
    "        os.remove(os.path.join(dir_name, item))"
   ]
  },
  {
   "cell_type": "markdown",
   "metadata": {},
   "source": [
    "# Make animation"
   ]
  },
  {
   "cell_type": "code",
   "execution_count": null,
   "metadata": {},
   "outputs": [],
   "source": [
    "import os\n",
    "import imageio\n",
    "\n",
    "png_dir = os.getcwd()\n",
    "images = []\n",
    "for file_name in sorted(os.listdir(png_dir)):\n",
    "    if file_name.endswith('.png'):\n",
    "        file_path = os.path.join(png_dir, file_name)\n",
    "        images.append(imageio.imread(file_path))\n",
    "imageio.mimsave(png_dir + \"\\\\karate.gif\", images, duration=1)\n"
   ]
  }
 ],
 "metadata": {
  "interpreter": {
   "hash": "07efdcd4b820c98a756949507a4d29d7862823915ec7477944641bea022f4f62"
  },
  "kernelspec": {
   "display_name": "Python 3.8.8 64-bit ('base': conda)",
   "language": "python",
   "name": "python3"
  },
  "language_info": {
   "codemirror_mode": {
    "name": "ipython",
    "version": 3
   },
   "file_extension": ".py",
   "mimetype": "text/x-python",
   "name": "python",
   "nbconvert_exporter": "python",
   "pygments_lexer": "ipython3",
   "version": "3.8.8"
  },
  "orig_nbformat": 4
 },
 "nbformat": 4,
 "nbformat_minor": 2
}
