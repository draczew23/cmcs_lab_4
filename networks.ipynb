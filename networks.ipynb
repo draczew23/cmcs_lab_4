{
 "cells": [
  {
   "cell_type": "markdown",
   "metadata": {},
   "source": [
    "# Task 1"
   ]
  },
  {
   "cell_type": "code",
   "execution_count": 35,
   "metadata": {},
   "outputs": [],
   "source": [
    "import networkx as nx\n",
    "import numpy as np\n",
    "import matplotlib.pyplot as plt\n"
   ]
  },
  {
   "cell_type": "markdown",
   "metadata": {},
   "source": [
    "Needed functions"
   ]
  },
  {
   "cell_type": "code",
   "execution_count": 36,
   "metadata": {},
   "outputs": [],
   "source": [
    "# Club initialization function\n",
    "\n",
    "def initialize_club(weight, state_off, state_hi, state_other):\n",
    "    g = nx.karate_club_graph()\n",
    "\n",
    "    # add state attribute to nodes\n",
    "    for i, j in g.nodes(data = True):\n",
    "\n",
    "        if j['club'] == 'Mr. Hi':\n",
    "            g.add_node(i, state=state_hi)\n",
    "\n",
    "        elif j['club'] == 'Officer':\n",
    "            g.add_node(i, state=state_off)\n",
    "\n",
    "        else:\n",
    "            g.add_node(i, state=state_other)\n",
    "            \n",
    "    # add weight attribute to edges\n",
    "    for i, j, k in g.edges(data = True):\n",
    "        g.add_edge(i, j, weight=weight)\n",
    "    \n",
    "    nextg = g.copy()\n",
    "\n",
    "    return g, nextg"
   ]
  },
  {
   "cell_type": "code",
   "execution_count": 47,
   "metadata": {},
   "outputs": [
    {
     "name": "stdout",
     "output_type": "stream",
     "text": [
      "0\n",
      "1\n",
      "2\n",
      "3\n",
      "4\n",
      "5\n",
      "6\n",
      "7\n",
      "8\n",
      "9\n",
      "10\n",
      "11\n",
      "12\n",
      "13\n",
      "14\n",
      "15\n",
      "16\n",
      "17\n",
      "18\n",
      "19\n",
      "20\n",
      "21\n",
      "22\n",
      "23\n",
      "24\n",
      "25\n",
      "26\n",
      "27\n",
      "28\n",
      "29\n",
      "30\n",
      "31\n",
      "32\n",
      "33\n"
     ]
    },
    {
     "data": {
      "text/plain": [
       "1"
      ]
     },
     "execution_count": 47,
     "metadata": {},
     "output_type": "execute_result"
    }
   ],
   "source": [
    "# initial parameters\n",
    "\n",
    "D = 5\n",
    "beta = 10\n",
    "dt = 0.01\n",
    "c_hi = 1    # state Mr Hi\n",
    "c_off = 0   # state Officer\n",
    "c_other = 0.5   # state other\n",
    "w_init = 0.5    # initial weight\n",
    "\n",
    "# club initialization\n",
    "club = initialize_club(w_init, c_off, c_hi, c_other)\n",
    "\n",
    "g = club[0]     # our graph\n",
    "nextg = club[1] # copy of our graph\n",
    "\n",
    "# nx.draw(g, node_size=660, with_labels=True)\n",
    "for i in g.nodes():\n",
    "    print(i)\n",
    "\n",
    "g.nodes[5]['state']\n",
    "\n"
   ]
  },
  {
   "cell_type": "markdown",
   "metadata": {},
   "source": [
    "## Test code"
   ]
  },
  {
   "cell_type": "code",
   "execution_count": 38,
   "metadata": {},
   "outputs": [],
   "source": [
    "\n",
    "\n",
    "# g = nx.Graph()\n",
    "# # addinga nodenamed'John'\n",
    "# g.add_node('John')\n",
    "# # addinga bunchof nodesatonce\n",
    "# g.add_nodes_from(['Josh', 'Jane', 'Jess', 'Jack'])\n",
    "# # addinganedgebetween'John' and 'Jane'\n",
    "# g.add_edge('John', 'Jane')\n",
    "# # addinga bunchof edgesatonce\n",
    "# g.add_edges_from([('Jess', 'Josh'), ('John', 'Jack'), ('Jack', 'Jane')])\n",
    "# # addingmoreedges\n",
    "# # undefinednodeswillbe createdautomatically\n",
    "# g.add_edges_from([('Jess', 'Jill'), ('Jill', 'Jeff'), ('Jeff', 'Jane')])\n",
    "# # removingthe edgebetween'John' and 'Jane'\n",
    "# g.remove_edge('John', 'Jane')\n",
    "# # removingthe node'John'\n",
    "# # alledgesconnectedto thatnodewillbe removedtoo\n",
    "# g.remove_node('John')\n",
    "\n",
    "# g.edges()\n",
    "\n",
    "# g = nx.karate_club_graph()\n",
    "# plt.subplot(2, 2, 1)\n",
    "# nx.draw(g,node_size=50)\n",
    "# plt.title(\"spring layout\")\n",
    "# plt.subplot(2, 2, 2)\n",
    "# nx.draw_random(g,node_size=50)\n",
    "# ax = plt.gca() # to get the current axis\n",
    "# ax.collections[0].set_edgecolor(\"#000000\")\n",
    "# plt.title(\"random layout\")\n",
    "# plt.subplot(2, 2, 3)\n",
    "# nx.draw_circular(g,node_size=50)\n",
    "# plt.title(\"circular layout\")\n",
    "# plt.subplot(2, 2, 4)\n",
    "# shells = [[0, 1, 2, 32, 33],[3, 5, 6, 7, 8, 13, 23, 27, 29, 30, 31],[4, 9, 10, 11, 12, 14, 15, 16, 17, 18,19, 20, 21, 22, 24, 25, 26, 28]]\n",
    "# nx.draw_shell(g, nlist= shells,node_size=50,linewidths=1,edge_color='black',node_color='r',\n",
    "# node_shape='o')\n",
    "# plt.title(\"shell layout\")\n",
    "# plt.show()\n",
    "\n",
    "# # A = nx.adjacency_matrix(g)\n",
    "# # A_dense = A.todense()\n",
    "# # f = np.asarray(A_dense)\n",
    "\n",
    "# f[0][1] = 18\n",
    "# D = nx.convert_matrix.from_numpy_matrix(f)"
   ]
  }
 ],
 "metadata": {
  "interpreter": {
   "hash": "07efdcd4b820c98a756949507a4d29d7862823915ec7477944641bea022f4f62"
  },
  "kernelspec": {
   "display_name": "Python 3.8.8 64-bit ('base': conda)",
   "language": "python",
   "name": "python3"
  },
  "language_info": {
   "codemirror_mode": {
    "name": "ipython",
    "version": 3
   },
   "file_extension": ".py",
   "mimetype": "text/x-python",
   "name": "python",
   "nbconvert_exporter": "python",
   "pygments_lexer": "ipython3",
   "version": "3.8.8"
  },
  "orig_nbformat": 4
 },
 "nbformat": 4,
 "nbformat_minor": 2
}
